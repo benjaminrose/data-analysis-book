{
 "cells": [
  {
   "cell_type": "markdown",
   "id": "bcb701f0-6c37-4e8f-afbf-816392607bff",
   "metadata": {},
   "source": [
    "# Deep Learning\n",
    "\n",
    "## TensorFlow\n",
    "\n",
    "We are going to look at the TensorFlow example of building a neural network to \"read\" the handwritten numbers. This is addapted from https://www.tensorflow.org/tutorials/quickstart/beginner."
   ]
  },
  {
   "cell_type": "code",
   "execution_count": 13,
   "id": "563d84a6-58fc-4215-91e6-8a6164afbb07",
   "metadata": {},
   "outputs": [
    {
     "name": "stdout",
     "output_type": "stream",
     "text": [
      "TensorFlow version: 2.19.0\n"
     ]
    }
   ],
   "source": [
    "import tensorflow as tf\n",
    "print(\"TensorFlow version:\", tf.__version__)"
   ]
  },
  {
   "cell_type": "code",
   "execution_count": 4,
   "id": "6a32bc3d-5c59-45fb-a449-a5ca01fc6acc",
   "metadata": {},
   "outputs": [
    {
     "name": "stdout",
     "output_type": "stream",
     "text": [
      "Downloading data from https://storage.googleapis.com/tensorflow/tf-keras-datasets/mnist.npz\n",
      "\u001b[1m11490434/11490434\u001b[0m \u001b[32m━━━━━━━━━━━━━━━━━━━━\u001b[0m\u001b[37m\u001b[0m \u001b[1m0s\u001b[0m 0us/step\n"
     ]
    }
   ],
   "source": [
    "mnist = tf.keras.datasets.mnist\n",
    "\n",
    "(x_train, y_train), (x_test, y_test) = mnist.load_data()\n",
    "x_train, x_test = x_train / 255.0, x_test / 255.0"
   ]
  },
  {
   "cell_type": "markdown",
   "id": "4f17b68d-f9bd-4551-adf9-d84bd9263a4f",
   "metadata": {},
   "source": [
    "What is a [sequential model](https://www.tensorflow.org/guide/keras/sequential_model)? The docs for tf.keras.modles.Sequential can be found at https://www.tensorflow.org/api_docs/python/tf/keras/Sequential."
   ]
  },
  {
   "cell_type": "code",
   "execution_count": 5,
   "id": "68e954aa-4610-48de-812f-95c4b6120ac6",
   "metadata": {},
   "outputs": [
    {
     "name": "stderr",
     "output_type": "stream",
     "text": [
      "/Users/ben_rose/Documents/1 Projects/DataAnalysisBook/.venv/lib/python3.12/site-packages/keras/src/layers/reshaping/flatten.py:37: UserWarning: Do not pass an `input_shape`/`input_dim` argument to a layer. When using Sequential models, prefer using an `Input(shape)` object as the first layer in the model instead.\n",
      "  super().__init__(**kwargs)\n"
     ]
    }
   ],
   "source": [
    "model = tf.keras.models.Sequential([\n",
    "  tf.keras.layers.Flatten(input_shape=(28, 28)),\n",
    "  tf.keras.layers.Dense(128, activation='relu'),\n",
    "  tf.keras.layers.Dropout(0.2),\n",
    "  tf.keras.layers.Dense(10)\n",
    "])"
   ]
  },
  {
   "cell_type": "code",
   "execution_count": 6,
   "id": "5db55e85-a214-42e0-a488-688e3ec6d1a1",
   "metadata": {},
   "outputs": [
    {
     "name": "stdout",
     "output_type": "stream",
     "text": [
      "[[-0.11752514 -0.7688558  -0.00426082  0.6565713  -0.19637953  0.96185994\n",
      "  -0.88470095 -0.75256395 -0.17478883 -0.01877102]]\n",
      "[[0.0853291  0.04448646 0.09556243 0.18504737 0.07885897 0.25111237\n",
      "  0.03962022 0.04521716 0.0805801  0.09418581]]\n"
     ]
    }
   ],
   "source": [
    "# Returns \"logits\" or \"log-odds\" scores.\n",
    "predictions = model(x_train[:1]).numpy()\n",
    "print(predictions)\n",
    "\n",
    "# convert to probabilities\n",
    "print(tf.nn.softmax(predictions).numpy())"
   ]
  },
  {
   "cell_type": "markdown",
   "id": "27b12775-6f7c-436f-ad7a-4279d269f6a8",
   "metadata": {},
   "source": [
    "## Training the Model\n",
    "\n",
    "Define the loss function. This compares the \"truth values\" with the predicted logits and allows the training rutine to know how accurate the current model is.\n"
   ]
  },
  {
   "cell_type": "code",
   "execution_count": 7,
   "id": "efff1ddc-976c-41f6-bf2d-dc3fbf54772e",
   "metadata": {},
   "outputs": [
    {
     "name": "stdout",
     "output_type": "stream",
     "text": [
      "1.3818548\n"
     ]
    }
   ],
   "source": [
    "loss_fn = tf.keras.losses.SparseCategoricalCrossentropy(from_logits=True)\n",
    "print(loss_fn(y_train[:1], predictions).numpy())"
   ]
  },
  {
   "cell_type": "code",
   "execution_count": 8,
   "id": "8b13e086-8527-477c-94ce-2eefd7f3621d",
   "metadata": {},
   "outputs": [],
   "source": [
    "model.compile(optimizer='adam',\n",
    "              loss=loss_fn,\n",
    "              metrics=['accuracy'])"
   ]
  },
  {
   "cell_type": "code",
   "execution_count": 9,
   "id": "7623fccb-6420-480d-83cd-ceb8affde75c",
   "metadata": {},
   "outputs": [
    {
     "name": "stdout",
     "output_type": "stream",
     "text": [
      "Epoch 1/5\n",
      "\u001b[1m1875/1875\u001b[0m \u001b[32m━━━━━━━━━━━━━━━━━━━━\u001b[0m\u001b[37m\u001b[0m \u001b[1m2s\u001b[0m 878us/step - accuracy: 0.8620 - loss: 0.4761\n",
      "Epoch 2/5\n",
      "\u001b[1m1875/1875\u001b[0m \u001b[32m━━━━━━━━━━━━━━━━━━━━\u001b[0m\u001b[37m\u001b[0m \u001b[1m2s\u001b[0m 851us/step - accuracy: 0.9554 - loss: 0.1488\n",
      "Epoch 3/5\n",
      "\u001b[1m1875/1875\u001b[0m \u001b[32m━━━━━━━━━━━━━━━━━━━━\u001b[0m\u001b[37m\u001b[0m \u001b[1m2s\u001b[0m 844us/step - accuracy: 0.9678 - loss: 0.1048\n",
      "Epoch 4/5\n",
      "\u001b[1m1875/1875\u001b[0m \u001b[32m━━━━━━━━━━━━━━━━━━━━\u001b[0m\u001b[37m\u001b[0m \u001b[1m2s\u001b[0m 867us/step - accuracy: 0.9720 - loss: 0.0871\n",
      "Epoch 5/5\n",
      "\u001b[1m1875/1875\u001b[0m \u001b[32m━━━━━━━━━━━━━━━━━━━━\u001b[0m\u001b[37m\u001b[0m \u001b[1m2s\u001b[0m 842us/step - accuracy: 0.9758 - loss: 0.0749\n"
     ]
    },
    {
     "data": {
      "text/html": [
       "<pre style=\"white-space:pre;overflow-x:auto;line-height:normal;font-family:Menlo,'DejaVu Sans Mono',consolas,'Courier New',monospace\"></pre>\n"
      ],
      "text/plain": []
     },
     "metadata": {},
     "output_type": "display_data"
    },
    {
     "data": {
      "text/plain": [
       "\u001b[1m<\u001b[0m\u001b[1;95mkeras.src.callbacks.history.History\u001b[0m\u001b[39m object at \u001b[0m\u001b[1;36m0x14cdad700\u001b[0m\u001b[1m>\u001b[0m"
      ]
     },
     "execution_count": 9,
     "metadata": {},
     "output_type": "execute_result"
    }
   ],
   "source": [
    "# Model.fit adjusts the model parameters and minimizes the loss function\n",
    "model.fit(x_train, y_train, epochs=5)"
   ]
  },
  {
   "cell_type": "code",
   "execution_count": 10,
   "id": "d6747b27-ccd2-475d-8154-4c1eadfe13f3",
   "metadata": {},
   "outputs": [
    {
     "name": "stdout",
     "output_type": "stream",
     "text": [
      "313/313 - 0s - 484us/step - accuracy: 0.9770 - loss: 0.0719\n"
     ]
    },
    {
     "data": {
      "text/html": [
       "<pre style=\"white-space:pre;overflow-x:auto;line-height:normal;font-family:Menlo,'DejaVu Sans Mono',consolas,'Courier New',monospace\"></pre>\n"
      ],
      "text/plain": []
     },
     "metadata": {},
     "output_type": "display_data"
    },
    {
     "data": {
      "text/plain": [
       "\u001b[1m[\u001b[0m\u001b[1;36m0.07186117023229599\u001b[0m, \u001b[1;36m0.9769999980926514\u001b[0m\u001b[1m]\u001b[0m"
      ]
     },
     "execution_count": 10,
     "metadata": {},
     "output_type": "execute_result"
    }
   ],
   "source": [
    "model.evaluate(x_test,  y_test, verbose=2)"
   ]
  },
  {
   "cell_type": "markdown",
   "id": "a260667d-8ced-4b15-a3d6-66b7c3b64ee0",
   "metadata": {},
   "source": [
    "### Getting Probabilities\n",
    "\n",
    "If you want to return probabilities, just wrap the model in softmax."
   ]
  },
  {
   "cell_type": "code",
   "execution_count": 11,
   "id": "bb5aedeb-ccf0-4e0e-8ed1-1e664d3359b7",
   "metadata": {},
   "outputs": [
    {
     "name": "stdout",
     "output_type": "stream",
     "text": [
      "tf.Tensor(\n",
      "[[9.3602521e-09 1.8926081e-09 4.9472592e-06 6.0764443e-05 1.3121224e-12\n",
      "  6.0177513e-08 8.3346835e-16 9.9992740e-01 6.6677678e-08 6.6614375e-06]\n",
      " [2.1537835e-06 5.5247940e-05 9.9989599e-01 1.7498358e-05 2.9663706e-17\n",
      "  1.5038261e-05 2.3051135e-07 2.1113303e-13 1.3787533e-05 1.8424001e-12]\n",
      " [8.9627963e-07 9.9958539e-01 1.6014097e-04 1.7010345e-06 3.4336945e-06\n",
      "  7.2520635e-08 1.3830442e-05 1.8436245e-04 4.9519695e-05 7.0014141e-07]\n",
      " [9.9999201e-01 7.1028881e-09 1.1799865e-06 2.8682925e-10 8.0409006e-11\n",
      "  2.1130113e-06 4.4707795e-06 4.0546084e-08 6.7615761e-12 7.7389792e-08]\n",
      " [1.0256740e-06 3.7153078e-09 1.0632595e-05 7.8662261e-08 9.9507070e-01\n",
      "  6.4188589e-07 5.8885826e-06 4.4658169e-05 1.4299733e-06 4.8650266e-03]], shape=(5, 10), dtype=float32)\n"
     ]
    }
   ],
   "source": [
    "probability_model = tf.keras.Sequential([\n",
    "  model,\n",
    "  tf.keras.layers.Softmax()\n",
    "])\n",
    "print(probability_model(x_test[:5]))"
   ]
  },
  {
   "cell_type": "markdown",
   "id": "a1fff912-434d-423c-a077-056211584751",
   "metadata": {},
   "source": [
    "## Further Reading\n",
    "\n",
    "* Beyond TensorFlow, another common tool is PyTorch.\n",
    "   * https://www.freecodecamp.org/news/pytorch-vs-tensorflow-for-deep-learning-projects/\n",
    "   * https://pytorch.org/tutorials/beginner/basics/intro.html\n",
    "   * https://pytorch.org/tutorials/beginner/blitz/neural_networks_tutorial.html"
   ]
  },
  {
   "cell_type": "code",
   "execution_count": 12,
   "id": "84d4ea68-9ffe-4ab9-98cb-dd13f08c6c56",
   "metadata": {},
   "outputs": [
    {
     "name": "stdout",
     "output_type": "stream",
     "text": [
      "The watermark extension is already loaded. To reload it, use:\n",
      "  %reload_ext watermark\n",
      "Last updated: Fri May 02 2025 10:34:58CDT\n",
      "\n",
      "Python implementation: CPython\n",
      "Python version       : 3.12.10\n",
      "IPython version      : 9.2.0\n",
      "\n",
      "Compiler    : Clang 16.0.0 (clang-1600.0.26.6)\n",
      "OS          : Darwin\n",
      "Release     : 24.4.0\n",
      "Machine     : arm64\n",
      "Processor   : arm\n",
      "CPU cores   : 12\n",
      "Architecture: 64bit\n",
      "\n",
      "tensorflow: 2.19.0\n",
      "pandas    : 2.2.3\n",
      "rich      : 14.0.0\n",
      "numpy     : 2.1.3\n",
      "keras     : 3.9.2\n",
      "matplotlib: 3.10.1\n",
      "\n",
      "Watermark: 2.5.0\n",
      "\n"
     ]
    }
   ],
   "source": [
    "%load_ext watermark\n",
    "%watermark -untzvm -iv -w"
   ]
  }
 ],
 "metadata": {
  "kernelspec": {
   "display_name": "Python 3 (ipykernel)",
   "language": "python",
   "name": "python3"
  },
  "language_info": {
   "codemirror_mode": {
    "name": "ipython",
    "version": 3
   },
   "file_extension": ".py",
   "mimetype": "text/x-python",
   "name": "python",
   "nbconvert_exporter": "python",
   "pygments_lexer": "ipython3",
   "version": "3.12.10"
  }
 },
 "nbformat": 4,
 "nbformat_minor": 5
}
