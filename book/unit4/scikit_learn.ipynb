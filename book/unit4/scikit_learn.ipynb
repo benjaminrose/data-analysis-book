{
 "cells": [
  {
   "cell_type": "markdown",
   "id": "de6912c1-1f92-4b34-85a2-fcbf4cfa4ec8",
   "metadata": {},
   "source": [
    "# Scikit Learn\n",
    "\n",
    "Installation - https://scikit-learn.org/stable/install.html#installation-instructions\n",
    "\n",
    "Scikit Learn has modules for classification, regression, clustering, dimensionality reduction, model selection, and preprocessing. We have already seen preprocessing and dimensionality reduction examples when we looked at [PCA](../unit2/pca).\n",
    "\n",
    "Practice - https://scikit-learn.org/stable/getting_started.html\n",
    "\n",
    "Example (if we have time) - https://scikit-learn.org/stable/auto_examples/classification/plot_digits_classification.html#sphx-glr-auto-examples-classification-plot-digits-classification-py"
   ]
  },
  {
   "cell_type": "code",
   "execution_count": 1,
   "id": "300e29ed-a200-4967-963b-a4122219ba8d",
   "metadata": {},
   "outputs": [],
   "source": [
    "from sklearn.ensemble import RandomForestClassifier"
   ]
  },
  {
   "cell_type": "code",
   "execution_count": null,
   "id": "53584565-fbd6-4d6f-bae2-d204ca89afe2",
   "metadata": {},
   "outputs": [],
   "source": []
  }
 ],
 "metadata": {
  "kernelspec": {
   "display_name": "Python 3 (ipykernel)",
   "language": "python",
   "name": "python3"
  },
  "language_info": {
   "codemirror_mode": {
    "name": "ipython",
    "version": 3
   },
   "file_extension": ".py",
   "mimetype": "text/x-python",
   "name": "python",
   "nbconvert_exporter": "python",
   "pygments_lexer": "ipython3",
   "version": "3.12.10"
  }
 },
 "nbformat": 4,
 "nbformat_minor": 5
}
